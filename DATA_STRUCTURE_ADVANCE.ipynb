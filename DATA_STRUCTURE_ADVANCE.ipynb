{
  "nbformat": 4,
  "nbformat_minor": 0,
  "metadata": {
    "colab": {
      "provenance": []
    },
    "kernelspec": {
      "name": "python3",
      "display_name": "Python 3"
    },
    "language_info": {
      "name": "python"
    }
  },
  "cells": [
    {
      "cell_type": "code",
      "source": [
        "\n",
        "1. ##**Reverse a string**\n",
        "s = \"Hello, World!\"\n",
        "def reverse_string(s):\n",
        "  return s[::-1]\n",
        "reverse_string(s)"
      ],
      "metadata": {
        "colab": {
          "base_uri": "https://localhost:8080/",
          "height": 35
        },
        "id": "M0iNoI0eySad",
        "outputId": "e5ecebf6-6179-48f4-b17a-91594ed51987"
      },
      "execution_count": 1,
      "outputs": [
        {
          "output_type": "execute_result",
          "data": {
            "text/plain": [
              "'!dlroW ,olleH'"
            ],
            "application/vnd.google.colaboratory.intrinsic+json": {
              "type": "string"
            }
          },
          "metadata": {},
          "execution_count": 1
        }
      ]
    },
    {
      "cell_type": "code",
      "source": [
        "##**Count the number of vowels in a string**\n",
        "vls = 'aeiouAEIOU'\n",
        "def count_vowels(vls):\n",
        "  return sum(1 for char in s if char in vls)\n",
        "count_vowels(vls)"
      ],
      "metadata": {
        "colab": {
          "base_uri": "https://localhost:8080/"
        },
        "id": "pNdfG5WSzvmf",
        "outputId": "e146ac8d-47ea-42e3-b6e0-57500a158967"
      },
      "execution_count": 2,
      "outputs": [
        {
          "output_type": "execute_result",
          "data": {
            "text/plain": [
              "3"
            ]
          },
          "metadata": {},
          "execution_count": 2
        }
      ]
    },
    {
      "cell_type": "code",
      "source": [
        "## **Check if a given string is a palindrome**:\n",
        "def is_palindrome(s):\n",
        "  return s == s[::-1]\n",
        "is_palindrome(s)"
      ],
      "metadata": {
        "colab": {
          "base_uri": "https://localhost:8080/"
        },
        "id": "LdVY_k960hmG",
        "outputId": "bd75eefc-80a2-4385-b470-0611de95e4f8"
      },
      "execution_count": 3,
      "outputs": [
        {
          "output_type": "execute_result",
          "data": {
            "text/plain": [
              "False"
            ]
          },
          "metadata": {},
          "execution_count": 3
        }
      ]
    },
    {
      "cell_type": "code",
      "source": [
        "##**Check if two strings are anagrams**:\n",
        "s1 = \"pwskils\"\n",
        "s2 = \"skilspw\"\n",
        "def are_anagrams(s1, s2):\n",
        "  return sorted(s1) == sorted(s2)\n",
        "are_anagrams(s1, s2)"
      ],
      "metadata": {
        "colab": {
          "base_uri": "https://localhost:8080/"
        },
        "id": "CR8dPUPa0zZ9",
        "outputId": "55cc6b7a-d115-4e7a-de69-a7967e7a4549"
      },
      "execution_count": 4,
      "outputs": [
        {
          "output_type": "execute_result",
          "data": {
            "text/plain": [
              "True"
            ]
          },
          "metadata": {},
          "execution_count": 4
        }
      ]
    },
    {
      "cell_type": "code",
      "source": [
        "##**Find all occurrences of a substring in another string**\n",
        "main_string = \"pwskills\"\n",
        "substring = \"skill\"\n",
        "def find_substring_occurrences(main_string, substring):\n",
        "  return [i for i in range(len(main_string)) if main_string.startswith(substring, i)]\n",
        "find_substring_occurrences(main_string, substring)"
      ],
      "metadata": {
        "colab": {
          "base_uri": "https://localhost:8080/"
        },
        "id": "eqTW6LyM1MaE",
        "outputId": "90e3c91b-0c4a-426b-f63e-eacd746f4455"
      },
      "execution_count": 5,
      "outputs": [
        {
          "output_type": "execute_result",
          "data": {
            "text/plain": [
              "[2]"
            ]
          },
          "metadata": {},
          "execution_count": 5
        }
      ]
    },
    {
      "cell_type": "code",
      "source": [
        "##**Basic string compression using the counts of repeated characters**\n",
        "def compress_string(s):\n",
        "    compressed = []\n",
        "    count = 1\n",
        "    for i in range(1, len(s)):\n",
        "        if s[i] == s[i-1]:\n",
        "           count += 1\n",
        "        else:\n",
        "           compressed.append(s[i-1] + str(count))\n",
        "           count = 1\n",
        "           compressed.append(s[-1] + str(count))\n",
        "    return ''.join(compressed)\n",
        "\n",
        "\n",
        "compress_string(s)"
      ],
      "metadata": {
        "colab": {
          "base_uri": "https://localhost:8080/",
          "height": 35
        },
        "id": "wuYlA36T1x1n",
        "outputId": "8c32a3fa-3cab-4cb5-957b-99342c91e9e7"
      },
      "execution_count": 6,
      "outputs": [
        {
          "output_type": "execute_result",
          "data": {
            "text/plain": [
              "'H1!1e1!1l2!1o1!1,1!1 1!1W1!1o1!1r1!1l1!1d1!1'"
            ],
            "application/vnd.google.colaboratory.intrinsic+json": {
              "type": "string"
            }
          },
          "metadata": {},
          "execution_count": 6
        }
      ]
    },
    {
      "cell_type": "code",
      "source": [
        "##*Determine if a string has all unique characters**:\n",
        "\n",
        "def has_unique_chars(s):\n",
        "   return len(s) == len(set(s))\n"
      ],
      "metadata": {
        "id": "GItSnzsW2aqr"
      },
      "execution_count": 7,
      "outputs": []
    },
    {
      "cell_type": "code",
      "source": [
        "##**Convert a string to uppercase or lowercase**:\n",
        "\n",
        "def to_uppercase(s):\n",
        "   return s.upper()\n",
        "\n",
        "   def to_lowercase(s):\n",
        "    return s.lower()"
      ],
      "metadata": {
        "id": "ijVSRqSc2b-5"
      },
      "execution_count": 8,
      "outputs": []
    },
    {
      "cell_type": "code",
      "source": [
        "##*Count the number of words in a string**:\n",
        "def count_words(s):\n",
        "   return len(s.split())"
      ],
      "metadata": {
        "id": "CNsUGMGt2fuA"
      },
      "execution_count": 9,
      "outputs": []
    },
    {
      "cell_type": "code",
      "source": [
        "##*Concatenate two strings without using the `+` operator**:\n",
        "\n",
        "def concatenate_strings(s1, s2):\n",
        "     return ''.join([s1, s2])\n"
      ],
      "metadata": {
        "id": "Y4UFg4cN2hmw"
      },
      "execution_count": 10,
      "outputs": []
    },
    {
      "cell_type": "code",
      "source": [
        "##*Remove all occurrences of a specific element from a list**\n",
        "def remove_element(lst, element):\n",
        "    return [x for x in lst if x != element]"
      ],
      "metadata": {
        "id": "DOdv31cb2jfh"
      },
      "execution_count": 11,
      "outputs": []
    },
    {
      "cell_type": "code",
      "source": [
        "##Find the second largest number in a list\n",
        "def second_largest(lst):\n",
        "    unique_lst = list(set(lst))\n",
        "    unique_lst.sort()\n",
        "    return unique_lst[-2] if len(unique_lst) >= 2 else None"
      ],
      "metadata": {
        "id": "cpgxZpwA7DE3"
      },
      "execution_count": 12,
      "outputs": []
    },
    {
      "cell_type": "code",
      "source": [
        "##Count occurrences of each element in a list\n",
        "def count_occurrences(lst):\n",
        "    return {x: lst.count(x) for x in lst}"
      ],
      "metadata": {
        "id": "-PRJaUZ07DCS"
      },
      "execution_count": 13,
      "outputs": []
    },
    {
      "cell_type": "code",
      "source": [
        "##Reverse a list in-place\n",
        "def reverse_list(lst):\n",
        "    left, right = 0, len(lst) - 1\n",
        "    while left < right:\n",
        "        lst[left], lst[right] = lst[right], lst[left]\n",
        "        left += 1\n",
        "        right -= 1"
      ],
      "metadata": {
        "id": "hYhd0wls7C_t"
      },
      "execution_count": 14,
      "outputs": []
    },
    {
      "cell_type": "code",
      "source": [
        "##Remove duplicates from a list while preserving order:\n",
        "def remove_duplicates(lst):\n",
        "    seen = set()\n",
        "    return [x for x in lst if not (x in seen or seen.add(x))]"
      ],
      "metadata": {
        "id": "cQ3y9rjj7CwS"
      },
      "execution_count": 15,
      "outputs": []
    },
    {
      "cell_type": "code",
      "source": [
        "##Check if a list is sorted:\n",
        "def is_sorted(lst):\n",
        "    return lst == sorted(lst) or lst == sorted(lst, reverse=True)"
      ],
      "metadata": {
        "id": "M8Tkp0677Cso"
      },
      "execution_count": 16,
      "outputs": []
    },
    {
      "cell_type": "code",
      "source": [
        "##Merge two sorted lists:\n",
        "def merge_sorted_lists(lst1, lst2):\n",
        "    return sorted(lst1 + lst2)"
      ],
      "metadata": {
        "id": "1HaFU7xn7CpL"
      },
      "execution_count": 17,
      "outputs": []
    },
    {
      "cell_type": "code",
      "source": [
        "#Find the intersection of two lists\n",
        "def intersection(lst1, lst2):\n",
        "    return list(set(lst1) & set(lst2))"
      ],
      "metadata": {
        "id": "bMD8vvE77Cl6"
      },
      "execution_count": 18,
      "outputs": []
    },
    {
      "cell_type": "code",
      "source": [
        "##Find the union of two lists without duplicates:\n",
        "def union(lst1, lst2):\n",
        "    return list(set(lst1) | set(lst2))"
      ],
      "metadata": {
        "id": "0S9qK8777CiN"
      },
      "execution_count": 19,
      "outputs": []
    },
    {
      "cell_type": "code",
      "source": [
        "##Shuffle a list randomly without using built-in functions:\n",
        "import random\n",
        "def shuffle_list(lst):\n",
        "    shuffled = lst[:]\n",
        "    for i in range(len(shuffled)):\n",
        "        j = random.randint(0, i)\n",
        "        shuffled[i], shuffled[j] = shuffled[j], shuffled[i]\n",
        "    return shuffled"
      ],
      "metadata": {
        "id": "l8Ncit2P7Cew"
      },
      "execution_count": 20,
      "outputs": []
    },
    {
      "cell_type": "code",
      "source": [
        "##Return common elements in two tuples:\n",
        "def common_elements(t1, t2):\n",
        "    return tuple(set(t1) & set(t2))"
      ],
      "metadata": {
        "id": "u3CI9QbB7Cal"
      },
      "execution_count": 21,
      "outputs": []
    },
    {
      "cell_type": "code",
      "source": [
        "##Prompt user to enter two sets of integers, print intersection\n",
        "def intersection_of_sets():\n",
        "    set1 = set(map(int, input(\"Enter first set of integers: \").split(',')))\n",
        "    set2 = set(map(int, input(\"Enter second set of integers: \").split(',')))\n",
        "    print(set1 & set2)"
      ],
      "metadata": {
        "id": "p3J22ml07CXa"
      },
      "execution_count": 22,
      "outputs": []
    },
    {
      "cell_type": "code",
      "source": [
        "##Concatenate two tuples:\n",
        "def concatenate_tuples(t1, t2):\n",
        "    return t1 + t2"
      ],
      "metadata": {
        "id": "WIT6cNqu7CUO"
      },
      "execution_count": 23,
      "outputs": []
    },
    {
      "cell_type": "code",
      "source": [
        "##Print elements in the first set but not the second set:\n",
        "def difference_of_sets():\n",
        "    set1 = set(input(\"Enter first set: \").split(','))\n",
        "    set2 = set(input(\"Enter second set: \").split(','))\n",
        "    print(set1 - set2)"
      ],
      "metadata": {
        "id": "gc1M0pTb9rTH"
      },
      "execution_count": 24,
      "outputs": []
    },
    {
      "cell_type": "code",
      "source": [
        "##Return elements from a tuple within a specified range:\n",
        "def tuple_range(t, start, end):\n",
        "    return t[start:end+1]\n"
      ],
      "metadata": {
        "id": "yF5FRH2d3pwW"
      },
      "execution_count": 25,
      "outputs": []
    },
    {
      "cell_type": "code",
      "source": [
        "##**Print the union of two sets of characters**:\n",
        "def union_of_sets():\n",
        "    set1 = set(input(\"Enter first set: \").split(','))\n",
        "    set2 = set(input(\"Enter second set: \").split(','))\n",
        "    print(set1 | set2)"
      ],
      "metadata": {
        "id": "_rD8SOYA3x0N"
      },
      "execution_count": 26,
      "outputs": []
    },
    {
      "cell_type": "code",
      "source": [
        "##*Return max and min values from a tuple**:\n",
        "\n",
        "def max_min_tuple(t):\n",
        "    return max(t), min(t)"
      ],
      "metadata": {
        "id": "rzwiTE9-3zm1"
      },
      "execution_count": 27,
      "outputs": []
    },
    {
      "cell_type": "code",
      "source": [
        "##**Print union, intersection, and difference of two sets**:\n",
        "def set_operations(set1, set2):\n",
        "    print(f\"Union: {set1 | set2}\")\n",
        "    print(f\"Intersection: {set1 & set2}\")\n",
        "    print(f\"Difference: {set1 - set2}\")"
      ],
      "metadata": {
        "id": "Ig9YLhp931Td"
      },
      "execution_count": 28,
      "outputs": []
    },
    {
      "cell_type": "code",
      "source": [
        "##Return the count of an element in a tuple**\n",
        "def count_element(t, element):\n",
        "    return t.count(element)\n"
      ],
      "metadata": {
        "id": "BNFHQMRM33Nc"
      },
      "execution_count": 29,
      "outputs": []
    },
    {
      "cell_type": "code",
      "source": [
        "##**Print the symmetric difference of two sets**:\n",
        "\n",
        "def symmetric_difference_of_sets():\n",
        "    set1 = set(input(\"Enter first set: \").split(','))\n",
        "    set2 = set(input(\"Enter second set: \").split(','))\n",
        "    print(set1 ^ set2)"
      ],
      "metadata": {
        "id": "XE3A1Qu3351E"
      },
      "execution_count": 30,
      "outputs": []
    },
    {
      "cell_type": "code",
      "source": [
        "##**Return a dictionary with word frequencies**:\n",
        "def word_frequencies(words):\n",
        "    return {word: words.count(word) for word in set(words)}"
      ],
      "metadata": {
        "id": "JoxpXNVp38NV"
      },
      "execution_count": 31,
      "outputs": []
    },
    {
      "cell_type": "code",
      "source": [
        "##**Merge two dictionaries**:\n",
        "def merge_dictionaries(d1, d2):\n",
        "    result = d1.copy()\n",
        "    for key, value in d2.items():\n",
        "        result[key] = result.get(key, 0) + value\n",
        "    return result\n"
      ],
      "metadata": {
        "id": "aixAyrPW3-4-"
      },
      "execution_count": 32,
      "outputs": []
    },
    {
      "cell_type": "code",
      "source": [
        "##**Access a value in a nested dictionary**:\n",
        "def access_nested_dict(d, keys):\n",
        "  for key in keys:\n",
        "      d = d.get(key)\n",
        "  if d is None:\n",
        "      return None\n",
        "  return d"
      ],
      "metadata": {
        "id": "WS-ObI6Y4B5U"
      },
      "execution_count": 33,
      "outputs": []
    },
    {
      "cell_type": "code",
      "source": [
        "##**Return a sorted dictionary based on values**:\n",
        "\n",
        "def sort_dict_by_values(d, reverse=False):\n",
        "    return dict(sorted(d.items(), key=lambda item: item[1], reverse=reverse))"
      ],
      "metadata": {
        "id": "F8UO_VCJ4FTM"
      },
      "execution_count": 34,
      "outputs": []
    },
    {
      "source": [
        "##*Invert a dictionary (swap keys and values)**\n",
        "def invert_dict(d): #Removed extra spaces before 'def'\n",
        "    inverted = {}\n",
        "    for key, value in d.items():\n",
        "        inverted.setdefault(value, []).append(key)\n",
        "    return inverted"
      ],
      "cell_type": "code",
      "metadata": {
        "id": "m9lFdZT64w2k"
      },
      "execution_count": 35,
      "outputs": []
    }
  ]
}